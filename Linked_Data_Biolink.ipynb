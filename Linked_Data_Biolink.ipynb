{
 "cells": [
  {
   "cell_type": "markdown",
   "metadata": {},
   "source": [
    "<h1>Ontologies and Linked biomedical data: A tutorial</h1>"
   ]
  },
  {
   "cell_type": "markdown",
   "metadata": {},
   "source": [
    "<p>This session will be a guided hands-on tour that will show you how ontologies and APIs can be used to link and analyze biomedical data.\n",
    "We will make heavy use of data and resources of the <a href=\"https://monarchinitiative.org/\" __target=\"__blank\">Monarch\n",
    "Initiative</a> including the <a href=\"https://hpo.jax.org/app/\">Human Phenotype Ontology</a>. We will use this Python \n",
    "notebook and indicate places where workshop participants can modify the notebook to ask their own questions. We\n",
    "will not attempt to teach you Python, but we will explain what you need to know for this workship on an ad hoc basis.</p>"
   ]
  },
  {
   "cell_type": "markdown",
   "metadata": {},
   "source": [
    "<h3>Using this notebook at home</h3>\n",
    "<p>One of the hardest things about Python is the fact there are so many versions and environments that are not mutually compatible.\n",
    "We have set up everything today so that hopefully it will just work, but you will very probably need to do some\n",
    "additional work to get this notebook to run on your own laptop. We recommend using the \n",
    "<a href=\"https://anaconda.org/anaconda/python\" target=\"__blank\">Anaconda</a> package and version 3.6 or higher of Python.\n",
    "Assuming you have installed Python, you will need to install the libraries needed by the notebook to work. <p>\n",
    "<p>For instance, to install requests, you would start anaconda and install it as follows (assuming you had previously created a Python 3 environment with a command <tt>conda create --name pyth3 python=3</tt>.\n",
    "    <pre>\n",
    "    $ source activate pyth3\n",
    "    $ conda install requests\n",
    "    </pre>\n",
    "    </p>\n",
    "<p>\n",
    "    This will not work for packages that are not represented in the Anacoda distribution. One important package\n",
    "    for the following is \n",
    "    <a href=\"https://ontobio.readthedocs.io/en/latest/\" target=\"__blank\">ontobio</a>. To install this package, \n",
    "    simply use pip3.\n",
    "    <pre>\n",
    "    $ pip3 install ontobio\n",
    "    </pre>\n",
    "    You will need to install the following packages unless they happen to have been previously installed.\n",
    "    <table>\n",
    "    <tr><td>ontobio</td></tr>\n",
    "    <tr><td>plotly</td></tr>\n",
    "    <tr><td>requests</td></tr>\n",
    "     <tr><td>json</td></tr>\n",
    "      <tr><td>networkx</td></tr>\n",
    "    </table>\n",
    "    Following this, restart the notebook (if necessary).\n",
    "    </p>\n",
    "    "
   ]
  },
  {
   "cell_type": "markdown",
   "metadata": {},
   "source": [
    "<h3>Python scripts and libraries</h3>\n",
    "<p>Python is a popular scripting language that offers an extensive collection of libraries and resources for machine learning and\n",
    "interacting with biomedical ontologies. This file is a Jupyter notebook, which is a web application that allows you to create and share \n",
    "documents that contain live Python code, equations, visualizations and narrative text. Python scripts usually\n",
    "begin by importing libraries that perform specific functions. For instance, the following <tt>import pprint</tt> command\n",
    "imports functions from the <a href=\"https://docs.python.org/3/library/pprint.html\" target=\"__blank\">Pretty Print</a>\n",
    "library that print certain kinds of text with indentations.</p>"
   ]
  },
  {
   "cell_type": "code",
   "execution_count": 1,
   "metadata": {},
   "outputs": [],
   "source": [
    "import requests\n",
    "import json\n",
    "from pprint import pprint\n",
    "import warnings\n",
    "with warnings.catch_warnings():\n",
    "    warnings.filterwarnings(\"ignore\",category=UserWarning)\n",
    "    import matplotlib,networkx"
   ]
  },
  {
   "cell_type": "markdown",
   "metadata": {},
   "source": [
    "<h1>APIs</h1>\n",
    "API stands for <em>Application Programming Interface</em>. API can have many meanings in computer science,\n",
    "but for today we are interested in Web APIs, i.e., internet servers that\n",
    " receive requests and send responses. Many Web APIs send responses formated as <a href=\"https://en.wikipedia.org/wiki/JSON\" target=\"__blank\">JSON</a>\n",
    "    (JavaScript Object Notation). JSON is not the same as JavaScript (a programming language intended for Web browsers). The following shows an\n",
    "    example of how to retrieve data about \n",
    "    <a href=\"https://www.genenames.org/cgi-bin/gene_symbol_report?hgnc_id=HGNC:1097\" target=\"__blank\">BRAF1</a> from the Human Gene Nomenclature Committee (HGNC) API.</p>\n",
    "  <p>We will not delve into JSON format here (although questions are welcome). Suffice it to say that JSON provides\n",
    "   a hierarchical structure for lists and dictionaries of key-value pairs that make it straightforward to organize and transmit relatively complex data structures. For those who want to learn more about converting Python objects to JSON strings and vice versa, this <a href=\"http://zetcode.com/python/simplejson/\" target=\"__blank\">simple tutorial</a> is recommended.</p>\n",
    "    \n",
    "    \n",
    "    "
   ]
  },
  {
   "cell_type": "code",
   "execution_count": 24,
   "metadata": {},
   "outputs": [
    {
     "name": "stdout",
     "output_type": "stream",
     "text": [
      "{'docs': [{'_version_': 1607383169398472710,\n",
      "           'alias_symbol': ['BRAF1'],\n",
      "           'ccds_id': ['CCDS5863', 'CCDS87555'],\n",
      "           'cosmic': 'BRAF',\n",
      "           'date_approved_reserved': '1991-07-16T00:00:00Z',\n",
      "           'date_modified': '2018-07-29T00:00:00Z',\n",
      "           'date_name_changed': '2014-06-26T00:00:00Z',\n",
      "           'ena': ['M95712'],\n",
      "           'ensembl_gene_id': 'ENSG00000157764',\n",
      "           'entrez_id': '673',\n",
      "           'gene_family': ['Mitogen-activated protein kinase kinase kinases',\n",
      "                           'RAF family'],\n",
      "           'gene_family_id': [654, 1157],\n",
      "           'hgnc_id': 'HGNC:1097',\n",
      "           'iuphar': 'objectId:1943',\n",
      "           'location': '7q34',\n",
      "           'location_sortable': '07q34',\n",
      "           'locus_group': 'protein-coding gene',\n",
      "           'locus_type': 'gene with protein product',\n",
      "           'lsdb': ['LRG_299|http://ftp.ebi.ac.uk/pub/databases/lrgex/LRG_299.xml'],\n",
      "           'mgd_id': ['MGI:88190'],\n",
      "           'name': 'B-Raf proto-oncogene, serine/threonine kinase',\n",
      "           'omim_id': ['164757'],\n",
      "           'orphanet': 119066,\n",
      "           'prev_name': ['v-raf murine sarcoma viral oncogene homolog B'],\n",
      "           'pubmed_id': [2284096, 1565476],\n",
      "           'refseq_accession': ['NM_004333'],\n",
      "           'rgd_id': ['RGD:619908'],\n",
      "           'status': 'Approved',\n",
      "           'symbol': 'BRAF',\n",
      "           'ucsc_id': 'uc003vwc.5',\n",
      "           'uniprot_ids': ['P15056'],\n",
      "           'uuid': '93d80523-3ade-4cdb-ac64-61e118e0ea95',\n",
      "           'vega_id': 'OTTHUMG00000157457'}],\n",
      " 'numFound': 1,\n",
      " 'start': 0}\n"
     ]
    }
   ],
   "source": [
    "uri = 'http://rest.genenames.org/fetch/hgnc_id/1097'\n",
    "headers = { 'Accept': 'application/json' }\n",
    "r = requests.get(uri,headers=headers)\n",
    "mydict=json.loads(r.text)\n",
    "pprint (mydict['response'])"
   ]
  },
  {
   "cell_type": "markdown",
   "metadata": {},
   "source": [
    "<h1>Using Biolink to query for Mendelian diseases associated with Nephroblastoma</h1>\n",
    "<p>At this point in the workshop, we will turn to a presentation about the \n",
    "    <a href=\"https://hpo.jax.org/app/\" target=\"__blank\">Human Phenotype Ontology (HPO)</a> before proceeding.\n",
    "We will use the HPO to explore clinical data surrounding selected cancer predisposition syndromes.</p>\n",
    "<p>...</p>\n",
    "<h2>Using Monarch APIs to access clinical and translational data</h2>\n",
    "<p>We will use the <a href=\"https://github.com/biolink/ontobio\" target=\"__blank\">ontobio API</a> to access\n",
    "    HPO data in this notebook. It is not important for you to understand all of the steps to use the notebook, \n",
    "    but please run each of the cells as we go along (this will be explained in the workshop).</p>"
   ]
  },
  {
   "cell_type": "code",
   "execution_count": 25,
   "metadata": {},
   "outputs": [],
   "source": [
    "import ontobio\n",
    "from ontobio import OntologyFactory"
   ]
  },
  {
   "cell_type": "markdown",
   "metadata": {},
   "source": [
    "<h2>Getting the HPO data via API and initializing the ontology software objects</h2>\n",
    "<p>The following code gets the HPO from the OntoBee SPARQL server\n",
    "(which may take 10 sec the first time you run the code;afterwards it is cached). For the purposes\n",
    "    of this workshop, we will concentrate on a simplified version of the HPO that uses only subclass relations between the terms"
   ]
  },
  {
   "cell_type": "code",
   "execution_count": 27,
   "metadata": {},
   "outputs": [
    {
     "data": {
      "text/plain": [
       "'HP:0000118'"
      ]
     },
     "execution_count": 27,
     "metadata": {},
     "output_type": "execute_result"
    }
   ],
   "source": [
    "# Get the HPO using default method (currently OntoBee SPARQL)\n",
    "## This may take 5-10s the first time you run it; afterwards it is cached\n",
    "ofa = OntologyFactory()\n",
    "ont = ofa.create('hp')\n",
    "ont = ont.subontology(relations='subClassOf')\n",
    "## Get the root of the abnormality subset\n",
    "[root] = ont.search('Phenotypic abnormality')\n",
    "root"
   ]
  },
  {
   "cell_type": "markdown",
   "metadata": {},
   "source": [
    "<h2>Retrieving a term with the ontobio API</h2>\n",
    "<p>We can now retrieve terms by passing their label to the API. For instance, the following command retrieves the term ID for <a href=\"https://hpo.jax.org/app/browse/term/HP:0001166\" target=\"__blank\">Arachnodactyly</a>.\n"
   ]
  },
  {
   "cell_type": "code",
   "execution_count": 28,
   "metadata": {},
   "outputs": [
    {
     "name": "stdout",
     "output_type": "stream",
     "text": [
      "'HP:0001166'\n"
     ]
    }
   ],
   "source": [
    "## Arbitrary term\n",
    "[t] = ont.search('Arachnodactyly')\n",
    "pprint (t)"
   ]
  },
  {
   "cell_type": "markdown",
   "metadata": {},
   "source": [
    "<h2><font color=\"red\">Exercise</font></h2>\n",
    "<p>Adapt the command above to search for the term ID for the HPO term for \n",
    "<a href=\"https://hpo.jax.org/app/browse/term/HP:0000347\" target=\"__blank\">Micrognathia</a>. To do this, click on the \n",
    "grey box, alter the text, and click on the 'Run' button at the top of the page.</p>"
   ]
  },
  {
   "cell_type": "markdown",
   "metadata": {},
   "source": [
    "<h2>Showing paths in the HPO</h2>\n",
    "<p>Ontologies contain a list of concepts (similar to terminologies), but also specify the relations between individual concepts.\n",
    "The HPO has subclass relations. For instance, \n",
    "<a href=\"https://hpo.jax.org/app/browse/term/HP:0005280\" target=\"__blank\">Depressed nasal bridge</a> is a subclass of\n",
    "<a href=\"https://hpo.jax.org/app/browse/term/HP:0000422\" target=\"__blank\">Abnormality of the nasal bridge</a>.\n",
    "We can display the concepts and relations and nodes and edges in a graph.</p>"
   ]
  },
  {
   "cell_type": "code",
   "execution_count": 29,
   "metadata": {},
   "outputs": [
    {
     "data": {
      "text/plain": [
       "['HP:0000152',\n",
       " 'HP:0000234',\n",
       " 'HP:0000366',\n",
       " 'HP:0000001',\n",
       " 'HP:0000271',\n",
       " 'HP:0000422',\n",
       " 'HP:0000118',\n",
       " 'HP:0000426',\n",
       " 'HP:0005280']"
      ]
     },
     "execution_count": 29,
     "metadata": {},
     "output_type": "execute_result"
    }
   ],
   "source": [
    "from networkx import nx\n",
    "import matplotlib\n",
    "import plotly as py\n",
    "import plotly.graph_objs as go\n",
    "G = ont.get_graph()\n",
    "[root] = ont.search('Phenotypic abnormality')  ## Root of ontology\n",
    "[t1] = ont.search('Depressed nasal bridge')\n",
    "ancs1 = ont.ancestors(t1, reflexive=True)  ## Get ancestors of Depressed nasal bridge\n",
    "ancs1 = [a for a in ancs1 if a.startswith('HP:')]\n",
    "[t2] = ont.search('Prominent nasal bridge')\n",
    "ancs2 = ont.ancestors(t2, reflexive=True)  ## Get ancestors of Prominent nasal bridge\n",
    "ancs2 = [a for a in ancs2 if a.startswith('HP:')]\n",
    "ancs=list(set(ancs1)|set(ancs2)) # combine the two lists\n",
    "ancs"
   ]
  },
  {
   "cell_type": "code",
   "execution_count": 30,
   "metadata": {},
   "outputs": [
    {
     "name": "stderr",
     "output_type": "stream",
     "text": [
      "/home/robinp/bin/anaconda3/lib/python3.6/site-packages/networkx/drawing/nx_pylab.py:522: MatplotlibDeprecationWarning:\n",
      "\n",
      "The is_string_like function was deprecated in version 2.1.\n",
      "\n",
      "/home/robinp/bin/anaconda3/lib/python3.6/site-packages/networkx/drawing/nx_pylab.py:543: MatplotlibDeprecationWarning:\n",
      "\n",
      "The is_string_like function was deprecated in version 2.1.\n",
      "\n",
      "/home/robinp/bin/anaconda3/lib/python3.6/site-packages/networkx/drawing/nx_pylab.py:724: MatplotlibDeprecationWarning:\n",
      "\n",
      "The is_string_like function was deprecated in version 2.1.\n",
      "\n"
     ]
    },
    {
     "data": {
      "image/png": "[encoded data removed]",
      "text/plain": [
       "<Figure size 432x288 with 1 Axes>"
      ]
     },
     "metadata": {},
     "output_type": "display_data"
    }
   ],
   "source": [
    "## Make a sub-ontology with just term and ancestors\n",
    "\n",
    "subont = ont.subontology(ancs)\n",
    "nx.draw_networkx(subont.get_graph())"
   ]
  },
  {
   "cell_type": "markdown",
   "metadata": {},
   "source": [
    "<h2>Show all Mendelian diseases characterized by Nephroblastoma</h2>\n",
    "<p>The HPO project includes not only the ontology but also a rich set of disease annotations for a total of about 7000\n",
    "rare diseases. We can use the API to retrieve a list of diseases associated with any of the HPO terms.</p>"
   ]
  },
  {
   "cell_type": "code",
   "execution_count": 31,
   "metadata": {},
   "outputs": [],
   "source": [
    "from ontobio.assoc_factory import AssociationSetFactory\n",
    "afactory = AssociationSetFactory()"
   ]
  },
  {
   "cell_type": "code",
   "execution_count": 32,
   "metadata": {},
   "outputs": [],
   "source": [
    "HUMAN='NCBITaxon:9606'\n",
    "aset=afactory.create(ontology=ont, subject_category='disease',object_category='phenotype',taxon=HUMAN)"
   ]
  },
  {
   "cell_type": "code",
   "execution_count": 33,
   "metadata": {},
   "outputs": [
    {
     "name": "stdout",
     "output_type": "stream",
     "text": [
      "Number of diseases associated with Nephroblastoma: 110\n"
     ]
    }
   ],
   "source": [
    "[t]=ont.search('Nephroblastoma')\n",
    "diseases=aset.query([t])\n",
    "print('Number of diseases associated with Nephroblastoma:',len(diseases))"
   ]
  },
  {
   "cell_type": "code",
   "execution_count": 34,
   "metadata": {},
   "outputs": [
    {
     "data": {
      "text/plain": [
       "[\"MONDO:0005086 'renal cell carcinoma (disease)'\",\n",
       " \"MONDO:0000966 'pleomorphic lipoma'\",\n",
       " \"MONDO:0002927 'spindle cell sarcoma'\",\n",
       " \"MONDO:0005059 'leukemia (disease)'\",\n",
       " \"MONDO:0002691 'liver cancer'\",\n",
       " \"MONDO:0002546 'schwannoma'\",\n",
       " \"MONDO:0007256 'hepatocellular carcinoma'\",\n",
       " \"MONDO:0005843 'mediastinal cancer'\",\n",
       " \"MONDO:0005062 'lymphoma'\"]"
      ]
     },
     "execution_count": 34,
     "metadata": {},
     "output_type": "execute_result"
    }
   ],
   "source": [
    "[\"{} '{}'\".format(d, aset.label(d)) for d in diseases][1:10]"
   ]
  },
  {
   "cell_type": "code",
   "execution_count": 21,
   "metadata": {},
   "outputs": [
    {
     "name": "stdout",
     "output_type": "stream",
     "text": [
      "AssocSet |S|=10892 |S->I|=10892\n"
     ]
    }
   ],
   "source": [
    "print(aset)"
   ]
  },
  {
   "cell_type": "code",
   "execution_count": 35,
   "metadata": {},
   "outputs": [
    {
     "data": {
      "text/plain": [
       "Heatmap({\n",
       "    'x': [MONDO:0004633, MONDO:0005086, MONDO:0000966, MONDO:0002927,\n",
       "          MONDO:0005059, MONDO:0002691, MONDO:0002546, MONDO:0007256,\n",
       "          MONDO:0005843, MONDO:0005062, MONDO:0005072, MONDO:0005096,\n",
       "          MONDO:0021061, MONDO:0003119, MONDO:0002123, MONDO:0002236,\n",
       "          MONDO:0002714, MONDO:0009807, MONDO:0011022, MONDO:0016674,\n",
       "          MONDO:0003544, MONDO:0007534, MONDO:0005212, MONDO:0002814,\n",
       "          MONDO:0001398, MONDO:0005004, MONDO:0005872, MONDO:0002601,\n",
       "          MONDO:0006854, MONDO:0002373, MONDO:0002926, MONDO:0014918,\n",
       "          MONDO:0001657, MONDO:0001340, MONDO:0019179, MONDO:0002367,\n",
       "          MONDO:0006639, MONDO:0005606, MONDO:0002732, MONDO:0005571,\n",
       "          MONDO:0006931, MONDO:0002129, MONDO:0004638, MONDO:0011240,\n",
       "          MONDO:0005836, MONDO:0019172, MONDO:0002447, MONDO:0017806,\n",
       "          MONDO:0009331, MONDO:0005447, MONDO:0007243, MONDO:0007635,\n",
       "          MONDO:0003072, MONDO:0012004, MONDO:0010886, MONDO:0005941,\n",
       "          MONDO:0010731, MONDO:0006044, MONDO:0005377, MONDO:0005233,\n",
       "          MONDO:0002928, MONDO:0005402, MONDO:0009759, MONDO:0016730,\n",
       "          MONDO:0019565, MONDO:0007022, MONDO:0007299, MONDO:0005345,\n",
       "          MONDO:0003144, MONDO:0008380, MONDO:0009664, MONDO:0007768,\n",
       "          MONDO:0012817, MONDO:0002913, MONDO:0002797, MONDO:0006294,\n",
       "          MONDO:0008681, MONDO:0000141, MONDO:0009993, MONDO:0003002,\n",
       "          MONDO:0008394, MONDO:0006974, MONDO:0018874, MONDO:0009994,\n",
       "          MONDO:0008682, MONDO:0013571, MONDO:0019004, MONDO:0009965,\n",
       "          OMIA:001142-9940, MONDO:0019514, MONDO:0003130, MONDO:0004643,\n",
       "          MONDO:0010768, MONDO:0018666, MONDO:0006071, MONDO:0002696,\n",
       "          MONDO:0005278, MONDO:0017177, MONDO:0005933, MONDO:0012565,\n",
       "          MONDO:0014779, MONDO:0007903, MONDO:0008679, MONDO:0011056,\n",
       "          MONDO:0009733, OMIA:001142-9913, OMIA:001142-9825, MONDO:0008680,\n",
       "          MONDO:0011112, MONDO:0008683],\n",
       "    'y': [MONDO:0004633, MONDO:0005086, MONDO:0000966, MONDO:0002927,\n",
       "          MONDO:0005059, MONDO:0002691, MONDO:0002546, MONDO:0007256,\n",
       "          MONDO:0005843, MONDO:0005062, MONDO:0005072, MONDO:0005096,\n",
       "          MONDO:0021061, MONDO:0003119, MONDO:0002123, MONDO:0002236,\n",
       "          MONDO:0002714, MONDO:0009807, MONDO:0011022, MONDO:0016674,\n",
       "          MONDO:0003544, MONDO:0007534, MONDO:0005212, MONDO:0002814,\n",
       "          MONDO:0001398, MONDO:0005004, MONDO:0005872, MONDO:0002601,\n",
       "          MONDO:0006854, MONDO:0002373, MONDO:0002926, MONDO:0014918,\n",
       "          MONDO:0001657, MONDO:0001340, MONDO:0019179, MONDO:0002367,\n",
       "          MONDO:0006639, MONDO:0005606, MONDO:0002732, MONDO:0005571,\n",
       "          MONDO:0006931, MONDO:0002129, MONDO:0004638, MONDO:0011240,\n",
       "          MONDO:0005836, MONDO:0019172, MONDO:0002447, MONDO:0017806,\n",
       "          MONDO:0009331, MONDO:0005447, MONDO:0007243, MONDO:0007635,\n",
       "          MONDO:0003072, MONDO:0012004, MONDO:0010886, MONDO:0005941,\n",
       "          MONDO:0010731, MONDO:0006044, MONDO:0005377, MONDO:0005233,\n",
       "          MONDO:0002928, MONDO:0005402, MONDO:0009759, MONDO:0016730,\n",
       "          MONDO:0019565, MONDO:0007022, MONDO:0007299, MONDO:0005345,\n",
       "          MONDO:0003144, MONDO:0008380, MONDO:0009664, MONDO:0007768,\n",
       "          MONDO:0012817, MONDO:0002913, MONDO:0002797, MONDO:0006294,\n",
       "          MONDO:0008681, MONDO:0000141, MONDO:0009993, MONDO:0003002,\n",
       "          MONDO:0008394, MONDO:0006974, MONDO:0018874, MONDO:0009994,\n",
       "          MONDO:0008682, MONDO:0013571, MONDO:0019004, MONDO:0009965,\n",
       "          OMIA:001142-9940, MONDO:0019514, MONDO:0003130, MONDO:0004643,\n",
       "          MONDO:0010768, MONDO:0018666, MONDO:0006071, MONDO:0002696,\n",
       "          MONDO:0005278, MONDO:0017177, MONDO:0005933, MONDO:0012565,\n",
       "          MONDO:0014779, MONDO:0007903, MONDO:0008679, MONDO:0011056,\n",
       "          MONDO:0009733, OMIA:001142-9913, OMIA:001142-9825, MONDO:0008680,\n",
       "          MONDO:0011112, MONDO:0008683],\n",
       "    'z': array([[-1.        , -0.43233083, -0.31553398, ..., -0.04096386, -0.04096386,\n",
       "                 -0.04096386],\n",
       "                [-0.43233083, -1.        , -0.35701275, ..., -0.04899135, -0.04899135,\n",
       "                 -0.04899135],\n",
       "                [-0.31553398, -0.35701275, -1.        , ..., -0.04271357, -0.04271357,\n",
       "                 -0.04271357],\n",
       "                ...,\n",
       "                [-0.04096386, -0.04899135, -0.04271357, ..., -1.        , -1.        ,\n",
       "                 -1.        ],\n",
       "                [-0.04096386, -0.04899135, -0.04271357, ..., -1.        , -1.        ,\n",
       "                 -1.        ],\n",
       "                [-0.04096386, -0.04899135, -0.04271357, ..., -1.        , -1.        ,\n",
       "                 -1.        ]])\n",
       "})"
      ]
     },
     "execution_count": 35,
     "metadata": {},
     "output_type": "execute_result"
    }
   ],
   "source": [
    "z, xlabels, ylabels = aset.similarity_matrix(diseases, diseases)\n",
    "import plotly.plotly as py\n",
    "import plotly.graph_objs as go\n",
    "import numpy as np\n",
    "trace = go.Heatmap(z=-np.array(z),\n",
    "                       x=xlabels,\n",
    "                       y=ylabels)\n",
    "#py.iplot([trace], filename='labelled-heatmap')\n",
    "trace"
   ]
  },
  {
   "cell_type": "code",
   "execution_count": null,
   "metadata": {},
   "outputs": [],
   "source": []
  }
 ],
 "metadata": {
  "anaconda-cloud": {},
  "kernelspec": {
   "display_name": "Python 3",
   "language": "python",
   "name": "python3"
  },
  "language_info": {
   "codemirror_mode": {
    "name": "ipython",
    "version": 3
   },
   "file_extension": ".py",
   "mimetype": "text/x-python",
   "name": "python",
   "nbconvert_exporter": "python",
   "pygments_lexer": "ipython3",
   "version": "3.6.5"
  }
 },
 "nbformat": 4,
 "nbformat_minor": 2
}
