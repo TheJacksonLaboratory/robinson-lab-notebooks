{
 "cells": [
  {
   "cell_type": "markdown",
   "metadata": {},
   "source": [
    "<h1>Ontologies and Linked biomedical data: A tutorial</h1>"
   ]
  },
  {
   "cell_type": "markdown",
   "metadata": {},
   "source": [
    "<p>This session will be a guided hands-on tour that will show you how ontologies and APIs can be used to link and analyze biomedical data.\n",
    "We will make heavy use of data and resources of the <a href=\"https://monarchinitiative.org/\" __target=\"__blank\">Monarch\n",
    "Initiative</a> including the <a href=\"https://hpo.jax.org/app/\">Human Phenotype Ontology</a>. We will use this Python \n",
    "notebook and indicate places where workshop participants can modify the notebook to ask their own questions. We\n",
    "will not attempt to teach you Python, but we will explain what you need to know for this workship on an ad hoc basis.</p>"
   ]
  },
  {
   "cell_type": "markdown",
   "metadata": {},
   "source": [
    "<h3>Using this notebook at home</h3>\n",
    "<p>One of the hardest things about Python is the fact there are so many versions and environments that are not mutually compatible.\n",
    "We have set up everything today so that hopefully it will just work, but you will very probably need to do some\n",
    "additional work to get this notebook to run on your own laptop. We recommend using the \n",
    "<a href=\"https://anaconda.org/anaconda/python\" target=\"__blank\">Anaconda</a> package and version 3.6 or higher of Python.\n",
    "Assuming you have installed Python, you will need to install the libraries needed by the notebook to work. <p>\n",
    "<p>For instance, to install requests, you would start anaconda and install it as follows (assuming you had previously created a Python 3 environment with a command <tt>conda create --name pyth3 python=3</tt>.\n",
    "    <pre>\n",
    "    $ source activate pyth3\n",
    "    $ conda install requests\n",
    "    </pre>\n",
    "    </p>\n",
    "<p>\n",
    "    This will not work for packages that are not represented in the Anacoda distribution. One important package\n",
    "    for the following is \n",
    "    <a href=\"https://ontobio.readthedocs.io/en/latest/\" target=\"__blank\">ontobio</a>. To install this package, \n",
    "    simply use pip3.\n",
    "    <pre>\n",
    "    $ pip3 install ontobio\n",
    "    </pre>\n",
    "    You will need to install the following packages unless they happen to have been previously installed.\n",
    "    <table>\n",
    "    <tr><td>ontobio</td></tr>\n",
    "    <tr><td>plotly</td></tr>\n",
    "    <tr><td>requests</td></tr>\n",
    "     <tr><td>json</td></tr>\n",
    "      <tr><td>networkx</td></tr>\n",
    "    </table>\n",
    "    Following this, restart the notebook (if necessary).\n",
    "    </p>\n",
    "    "
   ]
  },
  {
   "cell_type": "markdown",
   "metadata": {},
   "source": [
    "<h3>Python scripts and libraries</h3>\n",
    "<p>Python is a popular scripting language that offers an extensive collection of libraries and resources for machine learning and\n",
    "interacting with biomedical ontologies. This file is a Jupyter notebook, which is a web application that allows you to create and share \n",
    "documents that contain live Python code, equations, visualizations and narrative text. Python scripts usually\n",
    "begin by importing libraries that perform specific functions. For instance, the following <tt>import pprint</tt> command\n",
    "imports functions from the <a href=\"https://docs.python.org/3/library/pprint.html\" target=\"__blank\">Pretty Print</a>\n",
    "library that print certain kinds of text with indentations.</p>"
   ]
  },
  {
   "cell_type": "code",
   "execution_count": 1,
   "metadata": {},
   "outputs": [],
   "source": [
    "import requests\n",
    "import json\n",
    "from pprint import pprint\n",
    "import warnings\n",
    "with warnings.catch_warnings():\n",
    "    warnings.filterwarnings(\"ignore\",category=UserWarning)\n",
    "    import matplotlib,networkx"
   ]
  },
  {
   "cell_type": "markdown",
   "metadata": {},
   "source": [
    "<h1>APIs</h1>\n",
    "API stands for <em>Application Programming Interface</em>. API can have many meanings in computer science,\n",
    "but for today we are interested in Web APIs, i.e., internet servers that\n",
    " receive requests and send responses. Many Web APIs send responses formated as <a href=\"https://en.wikipedia.org/wiki/JSON\" target=\"__blank\">JSON</a>\n",
    "    (JavaScript Object Notation). JSON is not the same as JavaScript (a programming language intended for Web browsers). The following shows an\n",
    "    example of how to retrieve data about \n",
    "    <a href=\"https://www.genenames.org/cgi-bin/gene_symbol_report?hgnc_id=HGNC:1097\" target=\"__blank\">BRAF1</a> from the Human Gene Nomenclature Committee (HGNC) API.</p>\n",
    "  <p>We will not delve into JSON format here (although questions are welcome). Suffice it to say that JSON provides\n",
    "   a hierarchical structure for lists and dictionaries of key-value pairs that make it straightforward to organize and transmit relatively complex data structures. For those who want to learn more about converting Python objects to JSON strings and vice versa, this <a href=\"http://zetcode.com/python/simplejson/\" target=\"__blank\">simple tutorial</a> is recommended.</p>\n",
    "    \n",
    "    \n",
    "    "
   ]
  },
  {
   "cell_type": "code",
   "execution_count": 5,
   "metadata": {},
   "outputs": [
    {
     "name": "stdout",
     "output_type": "stream",
     "text": [
      "{'docs': [{'_version_': 1607383169398472710,\n",
      "           'alias_symbol': ['BRAF1'],\n",
      "           'ccds_id': ['CCDS5863', 'CCDS87555'],\n",
      "           'cosmic': 'BRAF',\n",
      "           'date_approved_reserved': '1991-07-16T00:00:00Z',\n",
      "           'date_modified': '2018-07-29T00:00:00Z',\n",
      "           'date_name_changed': '2014-06-26T00:00:00Z',\n",
      "           'ena': ['M95712'],\n",
      "           'ensembl_gene_id': 'ENSG00000157764',\n",
      "           'entrez_id': '673',\n",
      "           'gene_family': ['Mitogen-activated protein kinase kinase kinases',\n",
      "                           'RAF family'],\n",
      "           'gene_family_id': [654, 1157],\n",
      "           'hgnc_id': 'HGNC:1097',\n",
      "           'iuphar': 'objectId:1943',\n",
      "           'location': '7q34',\n",
      "           'location_sortable': '07q34',\n",
      "           'locus_group': 'protein-coding gene',\n",
      "           'locus_type': 'gene with protein product',\n",
      "           'lsdb': ['LRG_299|http://ftp.ebi.ac.uk/pub/databases/lrgex/LRG_299.xml'],\n",
      "           'mgd_id': ['MGI:88190'],\n",
      "           'name': 'B-Raf proto-oncogene, serine/threonine kinase',\n",
      "           'omim_id': ['164757'],\n",
      "           'orphanet': 119066,\n",
      "           'prev_name': ['v-raf murine sarcoma viral oncogene homolog B'],\n",
      "           'pubmed_id': [2284096, 1565476],\n",
      "           'refseq_accession': ['NM_004333'],\n",
      "           'rgd_id': ['RGD:619908'],\n",
      "           'status': 'Approved',\n",
      "           'symbol': 'BRAF',\n",
      "           'ucsc_id': 'uc003vwc.5',\n",
      "           'uniprot_ids': ['P15056'],\n",
      "           'uuid': '93d80523-3ade-4cdb-ac64-61e118e0ea95',\n",
      "           'vega_id': 'OTTHUMG00000157457'}],\n",
      " 'numFound': 1,\n",
      " 'start': 0}\n"
     ]
    }
   ],
   "source": [
    "uri = 'http://rest.genenames.org/fetch/hgnc_id/1097'\n",
    "headers = { 'Accept': 'application/json' }\n",
    "r = requests.get(uri,headers=headers)\n",
    "mydict=json.loads(r.text)\n",
    "pprint (mydict['response'])"
   ]
  },
  {
   "cell_type": "markdown",
   "metadata": {},
   "source": [
    "<h1>Using Biolink to query for Mendelian diseases associated with Nephroblastoma</h1>\n",
    "<p>At this point in the workshop, we will turn to a presentation about the \n",
    "    <a href=\"https://hpo.jax.org/app/\" target=\"__blank\">Human Phenotype Ontology (HPO)</a> before proceeding.\n",
    "We will use the HPO to explore clinical data surrounding selected cancer predisposition syndromes.</p>\n",
    "<p>...</p>\n",
    "<h2>Using Monarch APIs to access clinical and translational data</h2>\n",
    "<p>We will use the <a href=\"https://github.com/biolink/ontobio\" target=\"__blank\">ontobio API</a> to access\n",
    "    HPO data in this notebook. It is not important for you to understand all of the steps to use the notebook, \n",
    "    but please run each of the cells as we go along (this will be explained in the workshop).</p>"
   ]
  },
  {
   "cell_type": "code",
   "execution_count": 6,
   "metadata": {},
   "outputs": [],
   "source": [
    "import ontobio\n",
    "from ontobio import OntologyFactory"
   ]
  },
  {
   "cell_type": "markdown",
   "metadata": {},
   "source": [
    "<h2>Getting the HPO data via API and initializing the ontology software objects</h2>\n",
    "<p>The following code gets the HPO from the OntoBee SPARQL server\n",
    "(which may take 10 sec the first time you run the code;afterwards it is cached). For the purposes\n",
    "    of this workshop, we will concentrate on a simplified version of the HPO that uses only subclass relations between the terms"
   ]
  },
  {
   "cell_type": "code",
   "execution_count": 7,
   "metadata": {},
   "outputs": [],
   "source": [
    "# Get the HPO using default method (currently OntoBee SPARQL)\n",
    "## This may take 5-10s the first time you run it; afterwards it is cached\n",
    "ofa = OntologyFactory()\n",
    "ont = ofa.create('hp')\n",
    "ont = ont.subontology(relations='subClassOf')\n",
    "## Get the root of the abnormality subset\n",
    "[root] = ont.search('Phenotypic abnormality')"
   ]
  },
  {
   "cell_type": "markdown",
   "metadata": {},
   "source": [
    "<h2>Retrieving a term with the ontobio API</h2>\n",
    "<p>We can now retrieve terms by passing their label to the API. For instance, the following command retrieves the term ID for <a href=\"https://hpo.jax.org/app/browse/term/HP:0001166\" target=\"__blank\">Arachnodactyly</a>.\n"
   ]
  },
  {
   "cell_type": "code",
   "execution_count": 8,
   "metadata": {},
   "outputs": [
    {
     "name": "stdout",
     "output_type": "stream",
     "text": [
      "'HP:0001166'\n"
     ]
    }
   ],
   "source": [
    "## Arbitrary term\n",
    "[t] = ont.search('Arachnodactyly')\n",
    "pprint (t)"
   ]
  },
  {
   "cell_type": "markdown",
   "metadata": {},
   "source": [
    "<h2><font color=\"red\">Exercise</font></h2>\n",
    "<p>Adapt the command above to search for the term ID for the HPO term for \n",
    "<a href=\"https://hpo.jax.org/app/browse/term/HP:0000347\" target=\"__blank\">Micrognathia</a>. To do this, click on the \n",
    "grey box, alter the text, and click on the 'Run' button at the top of the page.</p>"
   ]
  },
  {
   "cell_type": "markdown",
   "metadata": {},
   "source": [
    "<h2>Showing paths in the HPO</h2>\n",
    "<p>Ontologies contain a list of concepts (similar to terminologies), but also specify the relations between individual concepts.\n",
    "The HPO has subclass relations. For instance, \n",
    "<a href=\"https://hpo.jax.org/app/browse/term/HP:0005280\" target=\"__blank\">Depressed nasal bridge</a> is a subclass of\n",
    "<a href=\"https://hpo.jax.org/app/browse/term/HP:0000422\" target=\"__blank\">Abnormality of the nasal bridge</a>.\n",
    "We can display the concepts and relations and nodes and edges in a graph.</p>"
   ]
  },
  {
   "cell_type": "code",
   "execution_count": 9,
   "metadata": {},
   "outputs": [
    {
     "data": {
      "text/plain": [
       "['HP:0005280',\n",
       " 'HP:0000271',\n",
       " 'HP:0000001',\n",
       " 'HP:0000366',\n",
       " 'HP:0000426',\n",
       " 'HP:0000118',\n",
       " 'HP:0000152',\n",
       " 'HP:0000234',\n",
       " 'HP:0000422']"
      ]
     },
     "execution_count": 9,
     "metadata": {},
     "output_type": "execute_result"
    }
   ],
   "source": [
    "from networkx import nx\n",
    "import matplotlib\n",
    "import plotly as py\n",
    "import plotly.graph_objs as go\n",
    "G = ont.get_graph()\n",
    "[root] = ont.search('Phenotypic abnormality')  ## Root of ontology\n",
    "[t1] = ont.search('Depressed nasal bridge')\n",
    "ancs1 = ont.ancestors(t1, reflexive=True)  ## Get ancestors of Depressed nasal bridge\n",
    "ancs1 = [a for a in ancs1 if a.startswith('HP:')]\n",
    "[t2] = ont.search('Prominent nasal bridge')\n",
    "ancs2 = ont.ancestors(t2, reflexive=True)  ## Get ancestors of Prominent nasal bridge\n",
    "ancs2 = [a for a in ancs2 if a.startswith('HP:')]\n",
    "ancs=list(set(ancs1)|set(ancs2)) # combine the two lists\n",
    "ancs"
   ]
  },
  {
   "cell_type": "code",
   "execution_count": 10,
   "metadata": {},
   "outputs": [
    {
     "name": "stderr",
     "output_type": "stream",
     "text": [
      "/home/robinp/bin/anaconda3/lib/python3.6/site-packages/networkx/drawing/nx_pylab.py:522: MatplotlibDeprecationWarning:\n",
      "\n",
      "The is_string_like function was deprecated in version 2.1.\n",
      "\n",
      "/home/robinp/bin/anaconda3/lib/python3.6/site-packages/networkx/drawing/nx_pylab.py:543: MatplotlibDeprecationWarning:\n",
      "\n",
      "The is_string_like function was deprecated in version 2.1.\n",
      "\n",
      "/home/robinp/bin/anaconda3/lib/python3.6/site-packages/networkx/drawing/nx_pylab.py:724: MatplotlibDeprecationWarning:\n",
      "\n",
      "The is_string_like function was deprecated in version 2.1.\n",
      "\n"
     ]
    }
   ],
   "source": [
    "## Make a sub-ontology with just term and ancestors\n",
    "\n",
    "subont = ont.subontology(ancs)\n",
    "nx.draw_networkx(subont.get_graph())"
   ]
  },
  {
   "cell_type": "markdown",
   "metadata": {},
   "source": [
    "<h2>Show all Mendelian diseases characterized by Nephroblastoma</h2>\n",
    "<p>The HPO project includes not only the ontology but also a rich set of disease annotations for a total of about 7000\n",
    "rare diseases. We can use the API to retrieve a list of diseases associated with any of the HPO terms.</p>"
   ]
  },
  {
   "cell_type": "code",
   "execution_count": 11,
   "metadata": {},
   "outputs": [],
   "source": [
    "from ontobio.assoc_factory import AssociationSetFactory\n",
    "afactory = AssociationSetFactory()"
   ]
  },
  {
   "cell_type": "code",
   "execution_count": 12,
   "metadata": {},
   "outputs": [],
   "source": [
    "HUMAN='NCBITaxon:9606'\n",
    "aset=afactory.create(ontology=ont, subject_category='disease',object_category='phenotype',taxon=HUMAN)"
   ]
  },
  {
   "cell_type": "code",
   "execution_count": 14,
   "metadata": {},
   "outputs": [
    {
     "data": {
      "text/plain": [
       "['MONDO:0004633',\n",
       " 'MONDO:0005086',\n",
       " 'MONDO:0000966',\n",
       " 'MONDO:0002927',\n",
       " 'MONDO:0005059',\n",
       " 'MONDO:0002691',\n",
       " 'MONDO:0002546',\n",
       " 'MONDO:0007256',\n",
       " 'MONDO:0005843',\n",
       " 'MONDO:0005062',\n",
       " 'MONDO:0005072',\n",
       " 'MONDO:0005096',\n",
       " 'MONDO:0021061',\n",
       " 'MONDO:0003119',\n",
       " 'MONDO:0002123',\n",
       " 'MONDO:0002236',\n",
       " 'MONDO:0002714',\n",
       " 'MONDO:0009807',\n",
       " 'MONDO:0011022',\n",
       " 'MONDO:0016674',\n",
       " 'MONDO:0003544',\n",
       " 'MONDO:0007534',\n",
       " 'MONDO:0005212',\n",
       " 'MONDO:0002814',\n",
       " 'MONDO:0001398',\n",
       " 'MONDO:0005004',\n",
       " 'MONDO:0005872',\n",
       " 'MONDO:0002601',\n",
       " 'MONDO:0006854',\n",
       " 'MONDO:0002373',\n",
       " 'MONDO:0002926',\n",
       " 'MONDO:0014918',\n",
       " 'MONDO:0001657',\n",
       " 'MONDO:0001340',\n",
       " 'MONDO:0019179',\n",
       " 'MONDO:0002367',\n",
       " 'MONDO:0006639',\n",
       " 'MONDO:0005606',\n",
       " 'MONDO:0002732',\n",
       " 'MONDO:0005571',\n",
       " 'MONDO:0006931',\n",
       " 'MONDO:0002129',\n",
       " 'MONDO:0004638',\n",
       " 'MONDO:0011240',\n",
       " 'MONDO:0005836',\n",
       " 'MONDO:0019172',\n",
       " 'MONDO:0002447',\n",
       " 'MONDO:0017806',\n",
       " 'MONDO:0009331',\n",
       " 'MONDO:0005447',\n",
       " 'MONDO:0007243',\n",
       " 'MONDO:0007635',\n",
       " 'MONDO:0003072',\n",
       " 'MONDO:0012004',\n",
       " 'MONDO:0010886',\n",
       " 'MONDO:0005941',\n",
       " 'MONDO:0010731',\n",
       " 'MONDO:0006044',\n",
       " 'MONDO:0005377',\n",
       " 'MONDO:0005233',\n",
       " 'MONDO:0002928',\n",
       " 'MONDO:0005402',\n",
       " 'MONDO:0009759',\n",
       " 'MONDO:0016730',\n",
       " 'MONDO:0019565',\n",
       " 'MONDO:0007022',\n",
       " 'MONDO:0007299',\n",
       " 'MONDO:0005345',\n",
       " 'MONDO:0003144',\n",
       " 'MONDO:0008380',\n",
       " 'MONDO:0009664',\n",
       " 'MONDO:0007768',\n",
       " 'MONDO:0012817',\n",
       " 'MONDO:0002913',\n",
       " 'MONDO:0002797',\n",
       " 'MONDO:0006294',\n",
       " 'MONDO:0008681',\n",
       " 'MONDO:0000141',\n",
       " 'MONDO:0009993',\n",
       " 'MONDO:0003002',\n",
       " 'MONDO:0008394',\n",
       " 'MONDO:0006974',\n",
       " 'MONDO:0018874',\n",
       " 'MONDO:0009994',\n",
       " 'MONDO:0008682',\n",
       " 'MONDO:0013571',\n",
       " 'MONDO:0019004',\n",
       " 'MONDO:0009965',\n",
       " 'OMIA:001142-9940',\n",
       " 'MONDO:0019514',\n",
       " 'MONDO:0003130',\n",
       " 'MONDO:0004643',\n",
       " 'MONDO:0010768',\n",
       " 'MONDO:0018666',\n",
       " 'MONDO:0006071',\n",
       " 'MONDO:0002696',\n",
       " 'MONDO:0005278',\n",
       " 'MONDO:0017177',\n",
       " 'MONDO:0005933',\n",
       " 'MONDO:0012565',\n",
       " 'MONDO:0014779',\n",
       " 'MONDO:0007903',\n",
       " 'MONDO:0008679',\n",
       " 'MONDO:0011056',\n",
       " 'MONDO:0009733',\n",
       " 'OMIA:001142-9913',\n",
       " 'OMIA:001142-9825',\n",
       " 'MONDO:0008680',\n",
       " 'MONDO:0011112',\n",
       " 'MONDO:0008683']"
      ]
     },
     "execution_count": 14,
     "metadata": {},
     "output_type": "execute_result"
    }
   ],
   "source": [
    "[t]=ont.search('Nephroblastoma')\n",
    "diseases=aset.query([t])\n",
    "diseases"
   ]
  },
  {
   "cell_type": "code",
   "execution_count": 16,
   "metadata": {},
   "outputs": [
    {
     "data": {
      "text/plain": [
       "[\"MONDO:0004633 'Hodgkin's lymphoma, mixed cellularity'\",\n",
       " \"MONDO:0005086 'renal cell carcinoma (disease)'\",\n",
       " \"MONDO:0000966 'pleomorphic lipoma'\",\n",
       " \"MONDO:0002927 'spindle cell sarcoma'\",\n",
       " \"MONDO:0005059 'leukemia (disease)'\",\n",
       " \"MONDO:0002691 'liver cancer'\",\n",
       " \"MONDO:0002546 'schwannoma'\",\n",
       " \"MONDO:0007256 'hepatocellular carcinoma'\",\n",
       " \"MONDO:0005843 'mediastinal cancer'\",\n",
       " \"MONDO:0005062 'lymphoma'\",\n",
       " \"MONDO:0005072 'neuroblastoma'\",\n",
       " \"MONDO:0005096 'squamous cell carcinoma'\",\n",
       " \"MONDO:0021061 'neurofibromatosis'\",\n",
       " \"MONDO:0003119 'histiocytoid hemangioma'\",\n",
       " \"MONDO:0002123 'calcinosis'\",\n",
       " \"MONDO:0002236 'ocular cancer'\",\n",
       " \"MONDO:0002714 'central nervous system cancer'\",\n",
       " \"MONDO:0009807 'osteosarcoma (disease)'\",\n",
       " \"MONDO:0011022 'Potocki-Shaffer syndrome'\",\n",
       " \"MONDO:0016674 '46,XY partial gonadal dysgenesis'\",\n",
       " \"MONDO:0003544 'spinal cord cancer'\",\n",
       " \"MONDO:0007534 'Beckwith-Wiedemann syndrome'\",\n",
       " \"MONDO:0005212 'rhabdomyosarcoma (disease)'\",\n",
       " \"MONDO:0002814 'adrenal carcinoma'\",\n",
       " \"MONDO:0001398 'ureter benign neoplasm'\",\n",
       " \"MONDO:0005004 'clear cell adenocarcinoma'\",\n",
       " \"MONDO:0005872 'nervous system cancer'\",\n",
       " \"MONDO:0002601 'teratoma'\",\n",
       " \"MONDO:0006854 'mesenchymoma'\",\n",
       " \"MONDO:0002373 'benign mesothelioma'\",\n",
       " \"MONDO:0002926 'clear cell sarcoma'\",\n",
       " \"MONDO:0014918 'Thauvin-Robinet-Faivre syndrome; TROFAS'\",\n",
       " \"MONDO:0001657 'brain cancer'\",\n",
       " \"MONDO:0001340 'heart cancer'\",\n",
       " \"MONDO:0019179 'monosomy 9q22.3'\",\n",
       " \"MONDO:0002367 'kidney cancer'\",\n",
       " \"MONDO:0006639 'adrenal cortex carcinoma'\",\n",
       " \"MONDO:0005606 'tubular adenocarcinoma'\",\n",
       " \"MONDO:0002732 'lung benign neoplasm'\",\n",
       " \"MONDO:0005571 'polycythemia (disease)'\",\n",
       " \"MONDO:0006931 'pulmonary coin lesion'\",\n",
       " \"MONDO:0002129 'bone cancer'\",\n",
       " \"MONDO:0004638 'lymphosarcoma'\",\n",
       " \"MONDO:0011240 'megalencephaly-capillary malformation-polymicrogyria syndrome'\",\n",
       " \"MONDO:0005836 'male reproductive organ cancer'\",\n",
       " \"MONDO:0019172 'aniridia'\",\n",
       " \"MONDO:0002447 'endometrial carcinoma (disease)'\",\n",
       " \"MONDO:0017806 '15q overgrowth syndrome'\",\n",
       " \"MONDO:0009331 'isolated hemihyperplasia'\",\n",
       " \"MONDO:0005447 'testicular cancer'\",\n",
       " \"MONDO:0007243 'Burkitts lymphoma'\",\n",
       " \"MONDO:0007635 'Frasier syndrome'\",\n",
       " \"MONDO:0003072 'retinal cancer'\",\n",
       " \"MONDO:0012004 'parathyroid gland carcinoma'\",\n",
       " \"MONDO:0010886 '2q37 microdeletion syndrome'\",\n",
       " \"MONDO:0005941 'retroperitoneal cancer'\",\n",
       " \"MONDO:0010731 'Simpson-Golabi-Behmel syndrome'\",\n",
       " \"MONDO:0006044 'nephrosclerosis'\",\n",
       " \"MONDO:0005377 'nephrotic syndrome'\",\n",
       " \"MONDO:0005233 'non-small cell lung carcinoma (disease)'\",\n",
       " \"MONDO:0002928 'carcinosarcoma'\",\n",
       " \"MONDO:0005402 'lymphoid leukemia (disease)'\",\n",
       " \"MONDO:0009759 'mosaic variegated aneuploidy syndrome 1'\",\n",
       " \"MONDO:0016730 'gangliocytoma'\",\n",
       " \"MONDO:0019565 'von willebrand disease'\",\n",
       " \"MONDO:0007022 'xanthogranulomatous pyelonephritis'\",\n",
       " \"MONDO:0007299 'Sotos syndrome 1'\",\n",
       " \"MONDO:0005345 'hypospadias (disease)'\",\n",
       " \"MONDO:0003144 'medulloepithelioma'\",\n",
       " \"MONDO:0008380 'retinoblastoma'\",\n",
       " \"MONDO:0009664 'mulibrey nanism'\",\n",
       " \"MONDO:0007768 'hyperparathyroidism-jaw tumor syndrome'\",\n",
       " \"MONDO:0012817 'Ewing sarcoma'\",\n",
       " \"MONDO:0002913 'cerebellar neoplasm'\",\n",
       " \"MONDO:0002797 'childhood medulloblastoma'\",\n",
       " \"MONDO:0006294 'pleural cancer'\",\n",
       " \"MONDO:0008681 'WAGR syndrome'\",\n",
       " \"MONDO:0000141 'mosaic variegated aneuploidy syndrome'\",\n",
       " \"MONDO:0009993 'embryonal rhabdomyosarcoma (disease)'\",\n",
       " \"MONDO:0003002 'dysgerminoma (disease)'\",\n",
       " \"MONDO:0008394 'Silver-Russell syndrome'\",\n",
       " \"MONDO:0006974 'small cell sarcoma'\",\n",
       " \"MONDO:0018874 'acute myeloid leukemia'\",\n",
       " \"MONDO:0009994 'alveolar rhabdomyosarcoma (disease)'\",\n",
       " \"MONDO:0008682 'Denys-Drash syndrome'\",\n",
       " \"MONDO:0013571 'acatalasia'\",\n",
       " \"MONDO:0019004 'kidney Wilms tumor'\",\n",
       " \"MONDO:0009965 'Perlman syndrome'\",\n",
       " \"OMIA:001142-9940 'Wilms tumour in sheep'\",\n",
       " \"MONDO:0019514 'hepatic veno-occlusive disease'\",\n",
       " \"MONDO:0003130 'mesoblastic nephroma'\",\n",
       " \"MONDO:0004643 'myeloid leukemia'\",\n",
       " \"MONDO:0010768 'gonadoblastoma'\",\n",
       " \"MONDO:0018666 'hepatoblastoma'\",\n",
       " \"MONDO:0006071 'adenofibroma'\",\n",
       " \"MONDO:0002696 'Sertoli cell tumor'\",\n",
       " \"MONDO:0005278 'serous adenocarcinoma'\",\n",
       " \"MONDO:0017177 'hemihyperplasia-multiple lipomatosis syndrome'\",\n",
       " \"MONDO:0005933 'pulmonary blastoma'\",\n",
       " \"MONDO:0012565 'Fanconi anemia complementation group N'\",\n",
       " \"MONDO:0014779 'wilms tumor 6; WT6'\",\n",
       " \"MONDO:0007903 'Li-Fraumeni syndrome 1'\",\n",
       " \"MONDO:0008679 'Wilms tumor type 1'\",\n",
       " \"MONDO:0011056 'wilms tumor 4'\",\n",
       " \"MONDO:0009733 'nephrotic syndrome, type 4'\",\n",
       " \"OMIA:001142-9913 'Wilms tumour in cattle'\",\n",
       " \"OMIA:001142-9825 'OMIA:001142-9825'\",\n",
       " \"MONDO:0008680 'wilms tumor 2'\",\n",
       " \"MONDO:0011112 'wilms tumor 5'\",\n",
       " \"MONDO:0008683 'WT3'\"]"
      ]
     },
     "execution_count": 16,
     "metadata": {},
     "output_type": "execute_result"
    }
   ],
   "source": [
    "[\"{} '{}'\".format(d, aset.label(d)) for d in diseases]"
   ]
  },
  {
   "cell_type": "code",
   "execution_count": 17,
   "metadata": {},
   "outputs": [
    {
     "name": "stdout",
     "output_type": "stream",
     "text": [
      "Aw, snap! We didn't get a username with your request.\n",
      "\n",
      "Don't have an account? https://plot.ly/api_signup\n",
      "\n",
      "Questions? accounts@plot.ly\n"
     ]
    },
    {
     "ename": "PlotlyError",
     "evalue": "Because you didn't supply a 'file_id' in the call, we're assuming you're trying to snag a figure from a url. You supplied the url, '', we expected it to start with 'https://plot.ly'.\nRun help on this function for more information.",
     "output_type": "error",
     "traceback": [
      "\u001b[0;31m---------------------------------------------------------------------------\u001b[0m",
      "\u001b[0;31mPlotlyError\u001b[0m                               Traceback (most recent call last)",
      "\u001b[0;32m<ipython-input-17-ba5d83e243b8>\u001b[0m in \u001b[0;36m<module>\u001b[0;34m()\u001b[0m\n\u001b[1;32m      6\u001b[0m                        \u001b[0mx\u001b[0m\u001b[0;34m=\u001b[0m\u001b[0mxlabels\u001b[0m\u001b[0;34m,\u001b[0m\u001b[0;34m\u001b[0m\u001b[0m\n\u001b[1;32m      7\u001b[0m                        y=ylabels)\n\u001b[0;32m----> 8\u001b[0;31m \u001b[0mpy\u001b[0m\u001b[0;34m.\u001b[0m\u001b[0miplot\u001b[0m\u001b[0;34m(\u001b[0m\u001b[0;34m[\u001b[0m\u001b[0mtrace\u001b[0m\u001b[0;34m]\u001b[0m\u001b[0;34m,\u001b[0m \u001b[0mfilename\u001b[0m\u001b[0;34m=\u001b[0m\u001b[0;34m'labelled-heatmap'\u001b[0m\u001b[0;34m)\u001b[0m\u001b[0;34m\u001b[0m\u001b[0m\n\u001b[0m",
      "\u001b[0;32m~/bin/anaconda3/lib/python3.6/site-packages/plotly/plotly/plotly.py\u001b[0m in \u001b[0;36miplot\u001b[0;34m(figure_or_data, **plot_options)\u001b[0m\n\u001b[1;32m    171\u001b[0m         \u001b[0membed_options\u001b[0m\u001b[0;34m[\u001b[0m\u001b[0;34m'height'\u001b[0m\u001b[0;34m]\u001b[0m \u001b[0;34m=\u001b[0m \u001b[0mstr\u001b[0m\u001b[0;34m(\u001b[0m\u001b[0membed_options\u001b[0m\u001b[0;34m[\u001b[0m\u001b[0;34m'height'\u001b[0m\u001b[0;34m]\u001b[0m\u001b[0;34m)\u001b[0m \u001b[0;34m+\u001b[0m \u001b[0;34m'px'\u001b[0m\u001b[0;34m\u001b[0m\u001b[0m\n\u001b[1;32m    172\u001b[0m \u001b[0;34m\u001b[0m\u001b[0m\n\u001b[0;32m--> 173\u001b[0;31m     \u001b[0;32mreturn\u001b[0m \u001b[0mtools\u001b[0m\u001b[0;34m.\u001b[0m\u001b[0membed\u001b[0m\u001b[0;34m(\u001b[0m\u001b[0murl\u001b[0m\u001b[0;34m,\u001b[0m \u001b[0;34m**\u001b[0m\u001b[0membed_options\u001b[0m\u001b[0;34m)\u001b[0m\u001b[0;34m\u001b[0m\u001b[0m\n\u001b[0m\u001b[1;32m    174\u001b[0m \u001b[0;34m\u001b[0m\u001b[0m\n\u001b[1;32m    175\u001b[0m \u001b[0;34m\u001b[0m\u001b[0m\n",
      "\u001b[0;32m~/bin/anaconda3/lib/python3.6/site-packages/plotly/tools.py\u001b[0m in \u001b[0;36membed\u001b[0;34m(file_owner_or_url, file_id, width, height)\u001b[0m\n\u001b[1;32m    393\u001b[0m         \u001b[0;32melse\u001b[0m\u001b[0;34m:\u001b[0m\u001b[0;34m\u001b[0m\u001b[0m\n\u001b[1;32m    394\u001b[0m             \u001b[0murl\u001b[0m \u001b[0;34m=\u001b[0m \u001b[0mfile_owner_or_url\u001b[0m\u001b[0;34m\u001b[0m\u001b[0m\n\u001b[0;32m--> 395\u001b[0;31m         \u001b[0;32mreturn\u001b[0m \u001b[0mPlotlyDisplay\u001b[0m\u001b[0;34m(\u001b[0m\u001b[0murl\u001b[0m\u001b[0;34m,\u001b[0m \u001b[0mwidth\u001b[0m\u001b[0;34m,\u001b[0m \u001b[0mheight\u001b[0m\u001b[0;34m)\u001b[0m\u001b[0;34m\u001b[0m\u001b[0m\n\u001b[0m\u001b[1;32m    396\u001b[0m     \u001b[0;32melse\u001b[0m\u001b[0;34m:\u001b[0m\u001b[0;34m\u001b[0m\u001b[0m\n\u001b[1;32m    397\u001b[0m         if (get_config_defaults()['plotly_domain']\n",
      "\u001b[0;32m~/bin/anaconda3/lib/python3.6/site-packages/plotly/tools.py\u001b[0m in \u001b[0;36m__init__\u001b[0;34m(self, url, width, height)\u001b[0m\n\u001b[1;32m   1440\u001b[0m         \u001b[0;32mdef\u001b[0m \u001b[0m__init__\u001b[0m\u001b[0;34m(\u001b[0m\u001b[0mself\u001b[0m\u001b[0;34m,\u001b[0m \u001b[0murl\u001b[0m\u001b[0;34m,\u001b[0m \u001b[0mwidth\u001b[0m\u001b[0;34m,\u001b[0m \u001b[0mheight\u001b[0m\u001b[0;34m)\u001b[0m\u001b[0;34m:\u001b[0m\u001b[0;34m\u001b[0m\u001b[0m\n\u001b[1;32m   1441\u001b[0m             \u001b[0mself\u001b[0m\u001b[0;34m.\u001b[0m\u001b[0mresource\u001b[0m \u001b[0;34m=\u001b[0m \u001b[0murl\u001b[0m\u001b[0;34m\u001b[0m\u001b[0m\n\u001b[0;32m-> 1442\u001b[0;31m             \u001b[0mself\u001b[0m\u001b[0;34m.\u001b[0m\u001b[0membed_code\u001b[0m \u001b[0;34m=\u001b[0m \u001b[0mget_embed\u001b[0m\u001b[0;34m(\u001b[0m\u001b[0murl\u001b[0m\u001b[0;34m,\u001b[0m \u001b[0mwidth\u001b[0m\u001b[0;34m=\u001b[0m\u001b[0mwidth\u001b[0m\u001b[0;34m,\u001b[0m \u001b[0mheight\u001b[0m\u001b[0;34m=\u001b[0m\u001b[0mheight\u001b[0m\u001b[0;34m)\u001b[0m\u001b[0;34m\u001b[0m\u001b[0m\n\u001b[0m\u001b[1;32m   1443\u001b[0m             \u001b[0msuper\u001b[0m\u001b[0;34m(\u001b[0m\u001b[0mPlotlyDisplay\u001b[0m\u001b[0;34m,\u001b[0m \u001b[0mself\u001b[0m\u001b[0;34m)\u001b[0m\u001b[0;34m.\u001b[0m\u001b[0m__init__\u001b[0m\u001b[0;34m(\u001b[0m\u001b[0mdata\u001b[0m\u001b[0;34m=\u001b[0m\u001b[0mself\u001b[0m\u001b[0;34m.\u001b[0m\u001b[0membed_code\u001b[0m\u001b[0;34m)\u001b[0m\u001b[0;34m\u001b[0m\u001b[0m\n\u001b[1;32m   1444\u001b[0m \u001b[0;34m\u001b[0m\u001b[0m\n",
      "\u001b[0;32m~/bin/anaconda3/lib/python3.6/site-packages/plotly/tools.py\u001b[0m in \u001b[0;36mget_embed\u001b[0;34m(file_owner_or_url, file_id, width, height)\u001b[0m\n\u001b[1;32m    298\u001b[0m                 \u001b[0;34m\"'{1}'.\"\u001b[0m\u001b[0;34m\u001b[0m\u001b[0m\n\u001b[1;32m    299\u001b[0m                 \u001b[0;34m\"\\nRun help on this function for more information.\"\u001b[0m\u001b[0;34m\u001b[0m\u001b[0m\n\u001b[0;32m--> 300\u001b[0;31m                 \"\".format(url, plotly_rest_url))\n\u001b[0m\u001b[1;32m    301\u001b[0m         \u001b[0murlsplit\u001b[0m \u001b[0;34m=\u001b[0m \u001b[0msix\u001b[0m\u001b[0;34m.\u001b[0m\u001b[0mmoves\u001b[0m\u001b[0;34m.\u001b[0m\u001b[0murllib\u001b[0m\u001b[0;34m.\u001b[0m\u001b[0mparse\u001b[0m\u001b[0;34m.\u001b[0m\u001b[0murlparse\u001b[0m\u001b[0;34m(\u001b[0m\u001b[0murl\u001b[0m\u001b[0;34m)\u001b[0m\u001b[0;34m\u001b[0m\u001b[0m\n\u001b[1;32m    302\u001b[0m         \u001b[0mfile_owner\u001b[0m \u001b[0;34m=\u001b[0m \u001b[0murlsplit\u001b[0m\u001b[0;34m.\u001b[0m\u001b[0mpath\u001b[0m\u001b[0;34m.\u001b[0m\u001b[0msplit\u001b[0m\u001b[0;34m(\u001b[0m\u001b[0;34m'/'\u001b[0m\u001b[0;34m)\u001b[0m\u001b[0;34m[\u001b[0m\u001b[0;36m1\u001b[0m\u001b[0;34m]\u001b[0m\u001b[0;34m.\u001b[0m\u001b[0msplit\u001b[0m\u001b[0;34m(\u001b[0m\u001b[0;34m'~'\u001b[0m\u001b[0;34m)\u001b[0m\u001b[0;34m[\u001b[0m\u001b[0;36m1\u001b[0m\u001b[0;34m]\u001b[0m\u001b[0;34m\u001b[0m\u001b[0m\n",
      "\u001b[0;31mPlotlyError\u001b[0m: Because you didn't supply a 'file_id' in the call, we're assuming you're trying to snag a figure from a url. You supplied the url, '', we expected it to start with 'https://plot.ly'.\nRun help on this function for more information."
     ]
    }
   ],
   "source": [
    "z, xlabels, ylabels = aset.similarity_matrix(diseases, diseases)\n",
    "import plotly.plotly as py\n",
    "import plotly.graph_objs as go\n",
    "import numpy as np\n",
    "trace = go.Heatmap(z=-np.array(z),\n",
    "                       x=xlabels,\n",
    "                       y=ylabels)\n",
    "py.iplot([trace], filename='labelled-heatmap')"
   ]
  },
  {
   "cell_type": "code",
   "execution_count": null,
   "metadata": {},
   "outputs": [],
   "source": []
  }
 ],
 "metadata": {
  "anaconda-cloud": {},
  "kernelspec": {
   "display_name": "Python 3",
   "language": "python",
   "name": "python3"
  },
  "language_info": {
   "codemirror_mode": {
    "name": "ipython",
    "version": 3
   },
   "file_extension": ".py",
   "mimetype": "text/x-python",
   "name": "python",
   "nbconvert_exporter": "python",
   "pygments_lexer": "ipython3",
   "version": "3.6.5"
  }
 },
 "nbformat": 4,
 "nbformat_minor": 2
}
